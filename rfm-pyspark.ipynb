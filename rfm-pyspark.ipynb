{
 "cells": [
  {
   "cell_type": "markdown",
   "metadata": {
    "id": "DRxmX319Nv6D"
   },
   "source": [
    "# RFM (PYSPARK)"
   ]
  },
  {
   "cell_type": "code",
   "execution_count": 1,
   "metadata": {},
   "outputs": [],
   "source": [
    "import numpy as np\n",
    "import pandas as pd\n",
    "import os\n",
    "import datetime\n",
    "from datetime import datetime, timedelta\n",
    "\n",
    "from pyspark.sql import SparkSession\n",
    "from pyspark.sql import SQLContext\n",
    "import pyspark.sql.functions as F\n",
    "from pyspark.sql.types import *"
   ]
  },
  {
   "cell_type": "markdown",
   "metadata": {
    "id": "R9K0ah6VN4__"
   },
   "source": [
    "Inicializamos Spark y leemos el archivo."
   ]
  },
  {
   "cell_type": "code",
   "execution_count": 2,
   "metadata": {
    "colab": {
     "base_uri": "https://localhost:8080/"
    },
    "executionInfo": {
     "elapsed": 9,
     "status": "ok",
     "timestamp": 1667954534482,
     "user": {
      "displayName": "Melanie Giselle Rubino",
      "userId": "09702893002743445661"
     },
     "user_tz": 180
    },
    "id": "lysiv4yZXHX8",
    "outputId": "93b52dac-3ebc-43cb-b9f1-94a934685a89"
   },
   "outputs": [
    {
     "name": "stderr",
     "output_type": "stream",
     "text": [
      "/usr/local/spark/python/pyspark/sql/context.py:112: FutureWarning: Deprecated in 3.0.0. Use SparkSession.builder.getOrCreate() instead.\n",
      "  warnings.warn(\n"
     ]
    }
   ],
   "source": [
    "spark = SparkSession.builder \\\n",
    "    .master('local') \\\n",
    "    .appName('myAppName') \\\n",
    "    .config('spark.executor.memory', '5gb') \\\n",
    "    .config(\"spark.cores.max\", \"6\") \\\n",
    "    .getOrCreate()\n",
    "\n",
    "sc = spark.sparkContext\n",
    "sqlContext = SQLContext(sc)"
   ]
  },
  {
   "cell_type": "code",
   "execution_count": 6,
   "metadata": {
    "colab": {
     "base_uri": "https://localhost:8080/"
    },
    "executionInfo": {
     "elapsed": 1507,
     "status": "ok",
     "timestamp": 1667954535982,
     "user": {
      "displayName": "Melanie Giselle Rubino",
      "userId": "09702893002743445661"
     },
     "user_tz": 180
    },
    "id": "ECfiPwBHXc4M",
    "outputId": "78e67e8a-9769-47f1-851c-6b7ca85e1bd1"
   },
   "outputs": [
    {
     "name": "stdout",
     "output_type": "stream",
     "text": [
      "+----------+----------+----------+--------------------+-------+------+---------+\n",
      "|event_time|event_type|product_id|       category_code|  brand| price|  user_id|\n",
      "+----------+----------+----------+--------------------+-------+------+---------+\n",
      "|2019-10-01|  purchase|   1004856|electronics.smart...|samsung|130.76|543272936|\n",
      "|2019-10-01|  purchase|   1002532|electronics.smart...|  apple|642.69|551377651|\n",
      "|2019-10-01|  purchase|   5100816|         no category| xiaomi| 29.51|514591159|\n",
      "|2019-10-01|  purchase|  13800054|furniture.bathroo...|santeri| 54.42|555332717|\n",
      "|2019-10-01|  purchase|   4804055|electronics.audio...|  apple|189.91|524601178|\n",
      "+----------+----------+----------+--------------------+-------+------+---------+\n",
      "only showing top 5 rows\n",
      "\n"
     ]
    }
   ],
   "source": [
    "df = sqlContext.read.csv('2019-Oct-Nov-transformed.csv', header='True')\n",
    "df.show(5)"
   ]
  },
  {
   "cell_type": "markdown",
   "metadata": {
    "id": "Ny008ApQltlO"
   },
   "source": [
    "### Filtramos solo las columnas que necesitamos y parseamos a tipo fecha event_time."
   ]
  },
  {
   "cell_type": "code",
   "execution_count": 7,
   "metadata": {
    "colab": {
     "base_uri": "https://localhost:8080/"
    },
    "executionInfo": {
     "elapsed": 5,
     "status": "ok",
     "timestamp": 1667954535983,
     "user": {
      "displayName": "Melanie Giselle Rubino",
      "userId": "09702893002743445661"
     },
     "user_tz": 180
    },
    "id": "zvFNDBPjcn5P",
    "outputId": "bccdf3a6-eef7-4658-8c3f-575fe38d45e9"
   },
   "outputs": [
    {
     "name": "stdout",
     "output_type": "stream",
     "text": [
      "+----------+----------+----------+--------------------+-------+------+---------+\n",
      "|event_time|event_type|product_id|       category_code|  brand| price|  user_id|\n",
      "+----------+----------+----------+--------------------+-------+------+---------+\n",
      "|2019-10-01|  purchase|   1004856|electronics.smart...|samsung|130.76|543272936|\n",
      "|2019-10-01|  purchase|   1002532|electronics.smart...|  apple|642.69|551377651|\n",
      "|2019-10-01|  purchase|   5100816|         no category| xiaomi| 29.51|514591159|\n",
      "|2019-10-01|  purchase|  13800054|furniture.bathroo...|santeri| 54.42|555332717|\n",
      "|2019-10-01|  purchase|   4804055|electronics.audio...|  apple|189.91|524601178|\n",
      "+----------+----------+----------+--------------------+-------+------+---------+\n",
      "only showing top 5 rows\n",
      "\n"
     ]
    }
   ],
   "source": [
    "from pyspark.sql.functions import *\n",
    "\n",
    "df = df.select(to_date(df.event_time, 'yyyy-MM-dd').alias('event_time'), \n",
    "             df.event_type, df.product_id, df.category_code, df.brand, df.price, df.user_id)\n",
    "df.show(5) "
   ]
  },
  {
   "cell_type": "code",
   "execution_count": null,
   "metadata": {
    "id": "irBMF8lOQ_Jw"
   },
   "outputs": [],
   "source": [
    "#df.filter(\"user_id == 549473770\").collect()\n",
    "#df.show(10)"
   ]
  },
  {
   "cell_type": "markdown",
   "metadata": {
    "id": "VZ4jxroyO-eR"
   },
   "source": [
    "### RECENCY"
   ]
  },
  {
   "cell_type": "code",
   "execution_count": 8,
   "metadata": {
    "id": "8ACU8DxYUMF6"
   },
   "outputs": [],
   "source": [
    "window= np.datetime64('2019-12-01','ns')\n",
    "window = window.astype(\"datetime64[D]\")"
   ]
  },
  {
   "cell_type": "code",
   "execution_count": 9,
   "metadata": {
    "colab": {
     "base_uri": "https://localhost:8080/"
    },
    "executionInfo": {
     "elapsed": 13023,
     "status": "ok",
     "timestamp": 1667954549271,
     "user": {
      "displayName": "Melanie Giselle Rubino",
      "userId": "09702893002743445661"
     },
     "user_tz": 180
    },
    "id": "b9WQhs8PSf2s",
    "outputId": "f2efb395-4695-47f8-b708-a0f3523d96ad"
   },
   "outputs": [
    {
     "name": "stdout",
     "output_type": "stream",
     "text": [
      "+---------+-------------------+\n",
      "|  user_id|    max(event_time)|\n",
      "+---------+-------------------+\n",
      "|549473770|2019-10-01 00:00:00|\n",
      "|545206959|2019-10-01 00:00:00|\n",
      "|512977906|2019-10-01 00:00:00|\n",
      "|525595314|2019-10-11 00:00:00|\n",
      "|516885410|2019-10-01 00:00:00|\n",
      "+---------+-------------------+\n",
      "only showing top 5 rows\n",
      "\n"
     ]
    }
   ],
   "source": [
    "from pyspark.sql.functions import col, max as max_\n",
    "\n",
    "df_recency = (df.withColumn(\"event_time\", col(\"event_time\").cast(\"timestamp\"))\n",
    "    .groupBy(\"user_id\")\n",
    "    .agg(max_(\"event_time\")))\n",
    "\n",
    "df_recency.show(5)"
   ]
  },
  {
   "cell_type": "code",
   "execution_count": 10,
   "metadata": {
    "colab": {
     "base_uri": "https://localhost:8080/"
    },
    "executionInfo": {
     "elapsed": 6546,
     "status": "ok",
     "timestamp": 1667954555802,
     "user": {
      "displayName": "Melanie Giselle Rubino",
      "userId": "09702893002743445661"
     },
     "user_tz": 180
    },
    "id": "tWwXrkZiPHza",
    "outputId": "5a9b4117-c199-4961-8890-2784fc4dd5ba"
   },
   "outputs": [
    {
     "name": "stdout",
     "output_type": "stream",
     "text": [
      "+---------+-------------------+-------+\n",
      "|  user_id|    max(event_time)|Recency|\n",
      "+---------+-------------------+-------+\n",
      "|549473770|2019-10-01 00:00:00|     61|\n",
      "|545206959|2019-10-01 00:00:00|     61|\n",
      "|512977906|2019-10-01 00:00:00|     61|\n",
      "|525595314|2019-10-11 00:00:00|     51|\n",
      "|516885410|2019-10-01 00:00:00|     61|\n",
      "+---------+-------------------+-------+\n",
      "only showing top 5 rows\n",
      "\n"
     ]
    }
   ],
   "source": [
    "from pyspark.sql.functions import datediff, to_date, lit\n",
    "\n",
    "df_recency = df_recency.withColumn(\"Recency\", \n",
    "              datediff(to_date(lit(\"2019-12-01\")),\n",
    "                       to_date(\"max(event_time)\",\"yyyy/MM/dd\")))\n",
    "df_recency.show(5)"
   ]
  },
  {
   "cell_type": "code",
   "execution_count": 11,
   "metadata": {
    "colab": {
     "base_uri": "https://localhost:8080/"
    },
    "executionInfo": {
     "elapsed": 6613,
     "status": "ok",
     "timestamp": 1667954562401,
     "user": {
      "displayName": "Melanie Giselle Rubino",
      "userId": "09702893002743445661"
     },
     "user_tz": 180
    },
    "id": "pUxBKvs-VOrz",
    "outputId": "b926f668-1b74-45a0-8a4c-01899a43e2bd"
   },
   "outputs": [
    {
     "name": "stdout",
     "output_type": "stream",
     "text": [
      "+---------+-------+\n",
      "|  user_id|Recency|\n",
      "+---------+-------+\n",
      "|549473770|     61|\n",
      "|545206959|     61|\n",
      "|512977906|     61|\n",
      "|525595314|     51|\n",
      "|516885410|     61|\n",
      "+---------+-------+\n",
      "only showing top 5 rows\n",
      "\n"
     ]
    }
   ],
   "source": [
    "df_recency = df_recency.drop('max(event_time)')\n",
    "df_recency.show(5)"
   ]
  },
  {
   "cell_type": "markdown",
   "metadata": {
    "id": "Fo5v-1jhWjR9"
   },
   "source": [
    "### FREQUENCY"
   ]
  },
  {
   "cell_type": "code",
   "execution_count": 12,
   "metadata": {
    "id": "3TNu1uG9WnxY"
   },
   "outputs": [],
   "source": [
    "df_frequency = df.dropDuplicates()"
   ]
  },
  {
   "cell_type": "code",
   "execution_count": 13,
   "metadata": {
    "id": "wV_VsPISXnRF"
   },
   "outputs": [],
   "source": [
    "df_frequency = df_frequency.groupBy(\"user_id\").count()"
   ]
  },
  {
   "cell_type": "code",
   "execution_count": 14,
   "metadata": {
    "colab": {
     "base_uri": "https://localhost:8080/"
    },
    "executionInfo": {
     "elapsed": 9823,
     "status": "ok",
     "timestamp": 1667954572208,
     "user": {
      "displayName": "Melanie Giselle Rubino",
      "userId": "09702893002743445661"
     },
     "user_tz": 180
    },
    "id": "REg0_Vl8YSbf",
    "outputId": "d7e7fa32-4fa5-4940-b59f-7ec4fbb848d7"
   },
   "outputs": [
    {
     "name": "stdout",
     "output_type": "stream",
     "text": [
      "+---------+-----+\n",
      "|  user_id|count|\n",
      "+---------+-----+\n",
      "|553669125|    1|\n",
      "|525490930|    3|\n",
      "|548334045|    7|\n",
      "|537328726|    1|\n",
      "|541758012|    1|\n",
      "+---------+-----+\n",
      "only showing top 5 rows\n",
      "\n"
     ]
    }
   ],
   "source": [
    "df_frequency.show(5)"
   ]
  },
  {
   "cell_type": "code",
   "execution_count": 15,
   "metadata": {
    "id": "uzzuTFDlY1_j"
   },
   "outputs": [],
   "source": [
    "df_frequency=df_frequency.withColumnRenamed(\"count\",\"Frequency\")"
   ]
  },
  {
   "cell_type": "markdown",
   "metadata": {
    "id": "qxAEbxYPZJEc"
   },
   "source": [
    "### MONETARY"
   ]
  },
  {
   "cell_type": "code",
   "execution_count": 16,
   "metadata": {
    "colab": {
     "base_uri": "https://localhost:8080/"
    },
    "executionInfo": {
     "elapsed": 5945,
     "status": "ok",
     "timestamp": 1667954578117,
     "user": {
      "displayName": "Melanie Giselle Rubino",
      "userId": "09702893002743445661"
     },
     "user_tz": 180
    },
    "id": "rRwUYD9rZL_M",
    "outputId": "3e5857a3-9ca5-4b5f-abcd-d95375c81397"
   },
   "outputs": [
    {
     "name": "stdout",
     "output_type": "stream",
     "text": [
      "+---------+-----------------+\n",
      "|  user_id|         Monetary|\n",
      "+---------+-----------------+\n",
      "|549473770|           165.24|\n",
      "|545206959|           295.49|\n",
      "|512977906|           286.86|\n",
      "|525595314|948.6399999999999|\n",
      "|516885410|           130.76|\n",
      "+---------+-----------------+\n",
      "only showing top 5 rows\n",
      "\n"
     ]
    }
   ],
   "source": [
    "df_monetary = df.groupBy(\"user_id\").agg({\"price\":\"sum\"})\n",
    "df_monetary=df_monetary.withColumnRenamed(\"sum(price)\",\"Monetary\")\n",
    "df_monetary.show(5)"
   ]
  },
  {
   "cell_type": "markdown",
   "metadata": {
    "id": "GR5NZ_MdcrDK"
   },
   "source": [
    "### MERGE DE LOS TRES DF"
   ]
  },
  {
   "cell_type": "code",
   "execution_count": 17,
   "metadata": {
    "colab": {
     "base_uri": "https://localhost:8080/"
    },
    "executionInfo": {
     "elapsed": 18163,
     "status": "ok",
     "timestamp": 1667954596266,
     "user": {
      "displayName": "Melanie Giselle Rubino",
      "userId": "09702893002743445661"
     },
     "user_tz": 180
    },
    "id": "nkq43BQdct0I",
    "outputId": "424a86be-e8ce-448f-d8ee-3c245530968e"
   },
   "outputs": [
    {
     "name": "stdout",
     "output_type": "stream",
     "text": [
      "+---------+-------+---------+\n",
      "|  user_id|Recency|Frequency|\n",
      "+---------+-------+---------+\n",
      "|138340325|     20|        1|\n",
      "|225644257|     19|        1|\n",
      "|253299396|     25|        1|\n",
      "|256164170|     11|        1|\n",
      "|264649825|     56|        2|\n",
      "+---------+-------+---------+\n",
      "only showing top 5 rows\n",
      "\n"
     ]
    }
   ],
   "source": [
    "df_rfm = df_recency.join(df_frequency, how='inner', on='user_id')\n",
    "df_rfm.show(5)"
   ]
  },
  {
   "cell_type": "code",
   "execution_count": 18,
   "metadata": {
    "colab": {
     "base_uri": "https://localhost:8080/"
    },
    "executionInfo": {
     "elapsed": 24094,
     "status": "ok",
     "timestamp": 1667954620327,
     "user": {
      "displayName": "Melanie Giselle Rubino",
      "userId": "09702893002743445661"
     },
     "user_tz": 180
    },
    "id": "3Nrf13qBhuL_",
    "outputId": "a722e4c8-ccfa-402c-eae4-91ecb368ae44"
   },
   "outputs": [
    {
     "name": "stdout",
     "output_type": "stream",
     "text": [
      "+---------+-------+---------+--------+\n",
      "|  user_id|Recency|Frequency|Monetary|\n",
      "+---------+-------+---------+--------+\n",
      "|138340325|     20|        1|    93.5|\n",
      "|225644257|     19|        1|   40.91|\n",
      "|253299396|     25|        1|  246.85|\n",
      "|256164170|     11|        1|  113.23|\n",
      "|264649825|     56|        2| 1240.04|\n",
      "+---------+-------+---------+--------+\n",
      "only showing top 5 rows\n",
      "\n"
     ]
    }
   ],
   "source": [
    "df_rfm = df_rfm.join(df_monetary, how='inner', on='user_id')\n",
    "df_rfm.show(5)"
   ]
  },
  {
   "cell_type": "markdown",
   "metadata": {
    "id": "XRv-VqvdkN59"
   },
   "source": [
    "### Eliminamos outliers utilizando el percentil 98."
   ]
  },
  {
   "cell_type": "markdown",
   "metadata": {
    "id": "P4Zycb87wacT"
   },
   "source": [
    "Chequeamos máx y min de Recency"
   ]
  },
  {
   "cell_type": "code",
   "execution_count": 19,
   "metadata": {
    "colab": {
     "base_uri": "https://localhost:8080/"
    },
    "executionInfo": {
     "elapsed": 28582,
     "status": "ok",
     "timestamp": 1667954648889,
     "user": {
      "displayName": "Melanie Giselle Rubino",
      "userId": "09702893002743445661"
     },
     "user_tz": 180
    },
    "id": "lYVQfJFfkVWb",
    "outputId": "cb1809c3-e8ae-42fb-e5f4-b7e7ea42a7f5"
   },
   "outputs": [
    {
     "name": "stdout",
     "output_type": "stream",
     "text": [
      "61\n",
      "1\n"
     ]
    }
   ],
   "source": [
    "print(df_rfm.agg({\"Recency\": \"max\"}).collect()[0][0])\n",
    "print(df_rfm.agg({\"Recency\": \"min\"}).collect()[0][0])"
   ]
  },
  {
   "cell_type": "markdown",
   "metadata": {
    "id": "shSVwub1we30"
   },
   "source": [
    "Chequeamos máx y mín de Frequency"
   ]
  },
  {
   "cell_type": "code",
   "execution_count": 23,
   "metadata": {
    "colab": {
     "base_uri": "https://localhost:8080/"
    },
    "executionInfo": {
     "elapsed": 32680,
     "status": "ok",
     "timestamp": 1667954681566,
     "user": {
      "displayName": "Melanie Giselle Rubino",
      "userId": "09702893002743445661"
     },
     "user_tz": 180
    },
    "id": "YYp4mCvewelQ",
    "outputId": "5510168d-0cb7-4a07-9dea-0ce968cff5a5"
   },
   "outputs": [
    {
     "name": "stdout",
     "output_type": "stream",
     "text": [
      "9\n",
      "1\n"
     ]
    }
   ],
   "source": [
    "print(df_rfm.agg({\"Frequency\": \"max\"}).collect()[0][0])\n",
    "print(df_rfm.agg({\"Frequency\": \"min\"}).collect()[0][0])"
   ]
  },
  {
   "cell_type": "markdown",
   "metadata": {
    "id": "-VdzW7iRyaaX"
   },
   "source": [
    "Chequeamos máx y mín para Monetary"
   ]
  },
  {
   "cell_type": "code",
   "execution_count": 25,
   "metadata": {
    "colab": {
     "base_uri": "https://localhost:8080/"
    },
    "executionInfo": {
     "elapsed": 24072,
     "status": "ok",
     "timestamp": 1667954705605,
     "user": {
      "displayName": "Melanie Giselle Rubino",
      "userId": "09702893002743445661"
     },
     "user_tz": 180
    },
    "id": "OluAFK8EyFJu",
    "outputId": "62e015cc-2a4a-4df3-8ec6-99596049a171"
   },
   "outputs": [
    {
     "name": "stdout",
     "output_type": "stream",
     "text": [
      "3429.41\n",
      "17.990000000000002\n"
     ]
    }
   ],
   "source": [
    "print(df_rfm.agg({\"Monetary\": \"max\"}).collect()[0][0])\n",
    "print(df_rfm.agg({\"Monetary\": \"min\"}).collect()[0][0])"
   ]
  },
  {
   "cell_type": "markdown",
   "metadata": {
    "id": "2YklzHAX1EyV"
   },
   "source": [
    "Para Frequency, calculamos el percentil 98 (q98) y nos quedamos con los valores menores a él."
   ]
  },
  {
   "cell_type": "code",
   "execution_count": null,
   "metadata": {
    "id": "49GYZgP61BLS"
   },
   "outputs": [],
   "source": [
    "#from pyspark.sql.functions import percentile_approx\n",
    "\n",
    "#base.approxQuantile(\"R\", [0.98], 0)\n",
    "\n",
    "#Outlier_M=base.approxQuantile(\"M\", [0.99], 0)[0]\n",
    "#Outlier_F=base.approxQuantile(\"F\", [0.99], 0)[0]\n",
    "#base_outliers=base.filter((base['M']>=Outlier_M) & (base['F']>=Outlier_F))\n",
    "\n",
    "#df_rfm.select(percentile_approx(\"Recency\", [0.98]).alias(\"quantiles\"))\n"
   ]
  },
  {
   "cell_type": "code",
   "execution_count": 22,
   "metadata": {},
   "outputs": [
    {
     "name": "stdout",
     "output_type": "stream",
     "text": [
      "+---------+-------+---------+--------+\n",
      "|  user_id|Recency|Frequency|Monetary|\n",
      "+---------+-------+---------+--------+\n",
      "|138340325|     20|        1|    93.5|\n",
      "|225644257|     19|        1|   40.91|\n",
      "|253299396|     25|        1|  246.85|\n",
      "|256164170|     11|        1|  113.23|\n",
      "|264649825|     56|        2| 1240.04|\n",
      "|267316896|     17|        1|  189.71|\n",
      "|276604124|     19|        1|    7.18|\n",
      "+---------+-------+---------+--------+\n",
      "only showing top 7 rows\n",
      "\n"
     ]
    }
   ],
   "source": [
    "p98 = df_rfm.approxQuantile(\"Frequency\", [0.98], 0)[0]\n",
    "df_rfm = df_rfm.filter(df_rfm[\"Frequency\"] <= p98)\n"
   ]
  },
  {
   "cell_type": "markdown",
   "metadata": {},
   "source": [
    "Para Monetary, calculamos el percentil 2 y el percentil 98 (p2 y p98) y nos quedamos con el intervalo entre estos dos valores."
   ]
  },
  {
   "cell_type": "code",
   "execution_count": 24,
   "metadata": {},
   "outputs": [
    {
     "name": "stdout",
     "output_type": "stream",
     "text": [
      "+---------+-------+---------+--------+\n",
      "|  user_id|Recency|Frequency|Monetary|\n",
      "+---------+-------+---------+--------+\n",
      "|138340325|     20|        1|    93.5|\n",
      "|225644257|     19|        1|   40.91|\n",
      "|253299396|     25|        1|  246.85|\n",
      "|256164170|     11|        1|  113.23|\n",
      "|264649825|     56|        2| 1240.04|\n",
      "|267316896|     17|        1|  189.71|\n",
      "|282274853|     23|        1|   79.15|\n",
      "+---------+-------+---------+--------+\n",
      "only showing top 7 rows\n",
      "\n"
     ]
    }
   ],
   "source": [
    "p2 = df_rfm.approxQuantile(\"Monetary\", [0.02], 0)[0]\n",
    "p98 = df_rfm.approxQuantile(\"Monetary\", [0.98], 0)[0]\n",
    "df_rfm = df_rfm.filter((df_rfm[\"Monetary\"] <= p98) & (df_rfm[\"Monetary\"] >= p2))\n",
    "\n",
    "df_rfm.show(7)"
   ]
  },
  {
   "cell_type": "markdown",
   "metadata": {
    "id": "sfj6veNc6qWI"
   },
   "source": [
    "### Asignamos quintiles"
   ]
  },
  {
   "cell_type": "code",
   "execution_count": 26,
   "metadata": {
    "colab": {
     "base_uri": "https://localhost:8080/"
    },
    "executionInfo": {
     "elapsed": 24511,
     "status": "ok",
     "timestamp": 1667954730102,
     "user": {
      "displayName": "Melanie Giselle Rubino",
      "userId": "09702893002743445661"
     },
     "user_tz": 180
    },
    "id": "YdcXhPrk6pnh",
    "outputId": "cff27c7c-b4d3-4c1a-f87d-2c22fb6356cb"
   },
   "outputs": [
    {
     "name": "stdout",
     "output_type": "stream",
     "text": [
      "+---------+-------+---------+------------------+---+\n",
      "|user_id  |Recency|Frequency|Monetary          |R  |\n",
      "+---------+-------+---------+------------------+---+\n",
      "|296197073|1      |2        |61.52             |5  |\n",
      "|453412907|1      |1        |64.35             |5  |\n",
      "|457173341|1      |1        |35.78             |5  |\n",
      "|467991797|1      |1        |282.89            |5  |\n",
      "|471516534|1      |2        |157.81            |5  |\n",
      "|474035876|1      |1        |308.82            |5  |\n",
      "|483102654|1      |1        |229.59            |5  |\n",
      "|488123390|1      |7        |1334.1299999999999|5  |\n",
      "|494367224|1      |1        |141.55            |5  |\n",
      "|495059418|1      |1        |36.53             |5  |\n",
      "|499480531|1      |1        |167.03            |5  |\n",
      "|501673590|1      |1        |916.37            |5  |\n",
      "|505654193|1      |2        |478.77            |5  |\n",
      "|512363666|1      |2        |982.65            |5  |\n",
      "|512363681|1      |4        |259.96000000000004|5  |\n",
      "|512364123|1      |4        |904.39            |5  |\n",
      "|512365193|1      |2        |656.01            |5  |\n",
      "|512365451|1      |3        |27.0              |5  |\n",
      "|512366040|1      |1        |916.37            |5  |\n",
      "|512367668|1      |8        |2510.0899999999997|5  |\n",
      "+---------+-------+---------+------------------+---+\n",
      "only showing top 20 rows\n",
      "\n"
     ]
    }
   ],
   "source": [
    "from pyspark.sql.window import Window\n",
    "import pyspark.sql.functions as F\n",
    "from itertools import chain\n",
    "from pyspark.sql.functions import create_map, lit\n",
    "\n",
    "#Asignamos cuantiles a Recency\n",
    "rfm = df_rfm.select(\"user_id\",\"Recency\",\"Frequency\",'Monetary', F.ntile(5).over(Window.partitionBy().orderBy(df_rfm['Recency'])).alias(\"R_\")) \n",
    "\n",
    "#Remapeamos los números para que los 1 sean 5, 2 sean 4, etc.\n",
    "simple_dict = {1:5, 2:4, 3:3, 4:2, 5:1}\n",
    "mapping_expr = create_map([lit(x) for x in chain(*simple_dict.items())])\n",
    "\n",
    "rfm =rfm.withColumn('R', mapping_expr[rfm['R_']])\n",
    "rfm = rfm.drop('R_')\n",
    "\n",
    "rfm.show(truncate=False)"
   ]
  },
  {
   "cell_type": "code",
   "execution_count": 27,
   "metadata": {
    "colab": {
     "base_uri": "https://localhost:8080/"
    },
    "executionInfo": {
     "elapsed": 23226,
     "status": "ok",
     "timestamp": 1667954753296,
     "user": {
      "displayName": "Melanie Giselle Rubino",
      "userId": "09702893002743445661"
     },
     "user_tz": 180
    },
    "id": "3h-BFs3V0AKZ",
    "outputId": "67b35d98-b74c-4f5e-beed-273107566196"
   },
   "outputs": [
    {
     "name": "stdout",
     "output_type": "stream",
     "text": [
      "+---------+-------+---------+--------+---+---+\n",
      "|  user_id|Recency|Frequency|Monetary|  R|  F|\n",
      "+---------+-------+---------+--------+---+---+\n",
      "|296197073|      1|        2|   61.52|  5|  1|\n",
      "|453412907|      1|        1|   64.35|  5|  1|\n",
      "|457173341|      1|        1|   35.78|  5|  1|\n",
      "|467991797|      1|        1|  282.89|  5|  1|\n",
      "|471516534|      1|        2|  157.81|  5|  1|\n",
      "+---------+-------+---------+--------+---+---+\n",
      "only showing top 5 rows\n",
      "\n"
     ]
    }
   ],
   "source": [
    "#Para Frequency\n",
    "simple_dict = {1:1, 2:1, 3:2, 4:2, 5:3, 6:3, 7:4, 8:4, 9:5,10:5, 11:5}\n",
    "mapping_expr = create_map([lit(x) for x in chain(*simple_dict.items())])\n",
    "rfm = rfm.withColumn('F', mapping_expr[rfm['Frequency']])\n",
    "rfm.show(5)"
   ]
  },
  {
   "cell_type": "code",
   "execution_count": 28,
   "metadata": {
    "colab": {
     "base_uri": "https://localhost:8080/"
    },
    "executionInfo": {
     "elapsed": 34771,
     "status": "ok",
     "timestamp": 1667954826400,
     "user": {
      "displayName": "Melanie Giselle Rubino",
      "userId": "09702893002743445661"
     },
     "user_tz": 180
    },
    "id": "kxUMrT5yTLgY",
    "outputId": "9633576b-808a-4d2a-c169-21414c472b93"
   },
   "outputs": [
    {
     "name": "stdout",
     "output_type": "stream",
     "text": [
      "+---------+-------+---------+------------------+---+---+---+\n",
      "|  user_id|Recency|Frequency|          Monetary|  R|  F|  M|\n",
      "+---------+-------+---------+------------------+---+---+---+\n",
      "|520238048|      3|        2|17.990000000000002|  5|  1|  1|\n",
      "|536598093|     48|        2|17.990000000000002|  1|  1|  1|\n",
      "|571296638|     17|        1|              18.0|  3|  1|  1|\n",
      "|513493902|     61|        1|              18.0|  1|  1|  1|\n",
      "|545022470|     15|        2|18.009999999999998|  3|  1|  1|\n",
      "+---------+-------+---------+------------------+---+---+---+\n",
      "only showing top 5 rows\n",
      "\n"
     ]
    }
   ],
   "source": [
    "#Monetary\n",
    "rfm.collect()\n",
    "rfm = rfm.select(\"user_id\",\"Recency\",\"Frequency\",'Monetary',\"R\",\"F\", F.ntile(5).over(Window.partitionBy().orderBy(df_rfm['Monetary'])).alias(\"M\"))\n",
    "rfm.show(5)"
   ]
  },
  {
   "cell_type": "code",
   "execution_count": 29,
   "metadata": {
    "colab": {
     "base_uri": "https://localhost:8080/"
    },
    "executionInfo": {
     "elapsed": 34720,
     "status": "ok",
     "timestamp": 1667955891916,
     "user": {
      "displayName": "Melanie Giselle Rubino",
      "userId": "09702893002743445661"
     },
     "user_tz": 180
    },
    "id": "Cho3KOCF3mp-",
    "outputId": "c44fbfeb-0bc5-4ebe-b5b6-9a18183b9e0c"
   },
   "outputs": [
    {
     "name": "stdout",
     "output_type": "stream",
     "text": [
      "+---------+-------+---------+---+---+---+---------+\n",
      "|  user_id|Recency|Frequency|  R|  F|  M|RFM_SCORE|\n",
      "+---------+-------+---------+---+---+---+---------+\n",
      "|520238048|      3|        2|  5|  1|  1|      511|\n",
      "|536598093|     48|        2|  1|  1|  1|      111|\n",
      "|571296638|     17|        1|  3|  1|  1|      311|\n",
      "|513493902|     61|        1|  1|  1|  1|      111|\n",
      "|545022470|     15|        2|  3|  1|  1|      311|\n",
      "+---------+-------+---------+---+---+---+---------+\n",
      "only showing top 5 rows\n",
      "\n"
     ]
    }
   ],
   "source": [
    "#Creamos la columna RFM_SCORE concatenando las columnas R, F, M.\n",
    "rfm=rfm.select('user_id','Recency','Frequency','R','F','M',concat(rfm.R, rfm.F, rfm.M).alias(\"RFM_SCORE\"))\n",
    "rfm.show(5)"
   ]
  },
  {
   "cell_type": "markdown",
   "metadata": {
    "id": "F69HylBV7OfC"
   },
   "source": [
    "### A partir del RFM_SCORE, mapeamos los segmentos."
   ]
  },
  {
   "cell_type": "code",
   "execution_count": null,
   "metadata": {
    "colab": {
     "base_uri": "https://localhost:8080/"
    },
    "executionInfo": {
     "elapsed": 505,
     "status": "ok",
     "timestamp": 1667957327689,
     "user": {
      "displayName": "Melanie Giselle Rubino",
      "userId": "09702893002743445661"
     },
     "user_tz": 180
    },
    "id": "ZdjtobEB7TlZ",
    "outputId": "dca87481-cc9a-4d98-9c6c-1f7a2d4e441d"
   },
   "outputs": [
    {
     "name": "stdout",
     "output_type": "stream",
     "text": [
      "+---------+-------+\n",
      "|RFM_SCORE|segment|\n",
      "+---------+-------+\n",
      "|      111|   Lost|\n",
      "|      112|   Lost|\n",
      "|      113|   Lost|\n",
      "|      114|At Risk|\n",
      "|      115|At Risk|\n",
      "+---------+-------+\n",
      "only showing top 5 rows\n",
      "\n"
     ]
    }
   ],
   "source": [
    "seg_map = sqlContext.read.csv('/content/drive/MyDrive/?TESIS/segmentos_rfm.csv', header='True')\n",
    "seg_map = seg_map.drop(\"Value\")\n",
    "seg_map.show(5)"
   ]
  },
  {
   "cell_type": "code",
   "execution_count": null,
   "metadata": {
    "colab": {
     "base_uri": "https://localhost:8080/"
    },
    "executionInfo": {
     "elapsed": 33954,
     "status": "ok",
     "timestamp": 1667957380450,
     "user": {
      "displayName": "Melanie Giselle Rubino",
      "userId": "09702893002743445661"
     },
     "user_tz": 180
    },
    "id": "vTWgRnp9-m9M",
    "outputId": "b8f09042-a7f1-408e-cc2f-3da38368c9a1"
   },
   "outputs": [
    {
     "name": "stdout",
     "output_type": "stream",
     "text": [
      "+---------+---------+-------+---------+---+---+---+-------------+---------+-------------+-------------+\n",
      "|RFM_SCORE|  user_id|Recency|Frequency|  R|  F|  M|      segment|    Value|      segment|      segment|\n",
      "+---------+---------+-------+---------+---+---+---+-------------+---------+-------------+-------------+\n",
      "|      411|520573734|     14|        1|  4|  1|  1|    Promising|     Good|    Promising|    Promising|\n",
      "|      411|513378422|     11|        1|  4|  1|  1|    Promising|     Good|    Promising|    Promising|\n",
      "|      511|517557126|      5|        1|  5|  1|  1|New Customers|Very Good|New Customers|New Customers|\n",
      "|      511|524830675|      8|        1|  5|  1|  1|New Customers|Very Good|New Customers|New Customers|\n",
      "|      411|513377188|     12|        1|  4|  1|  1|    Promising|     Good|    Promising|    Promising|\n",
      "+---------+---------+-------+---------+---+---+---+-------------+---------+-------------+-------------+\n",
      "only showing top 5 rows\n",
      "\n"
     ]
    }
   ],
   "source": [
    "rfm = rfm.join(seg_map, how='inner', on='RFM_SCORE')\n",
    "rfm.show(5)"
   ]
  },
  {
   "cell_type": "markdown",
   "metadata": {},
   "source": [
    "Exportamos el dataset"
   ]
  },
  {
   "cell_type": "code",
   "execution_count": null,
   "metadata": {},
   "outputs": [],
   "source": [
    "rfm.repartition(1).write.csv('work/RFM/RFM PYSPARK Resultados.csv')\n"
   ]
  }
 ],
 "metadata": {
  "colab": {
   "authorship_tag": "ABX9TyPgxq9Kra9zBG7AkaU9IN++",
   "collapsed_sections": [],
   "provenance": []
  },
  "kernelspec": {
   "display_name": "Python 3 (ipykernel)",
   "language": "python",
   "name": "python3"
  },
  "language_info": {
   "codemirror_mode": {
    "name": "ipython",
    "version": 3
   },
   "file_extension": ".py",
   "mimetype": "text/x-python",
   "name": "python",
   "nbconvert_exporter": "python",
   "pygments_lexer": "ipython3",
   "version": "3.10.8"
  }
 },
 "nbformat": 4,
 "nbformat_minor": 1
}
