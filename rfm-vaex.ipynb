{
 "cells": [
  {
   "cell_type": "markdown",
   "metadata": {},
   "source": [
    "# RFM (vaex)\n",
    "\n",
    "HTML tag escapes for Vaex index column in jupyterlab https://github.com/vaexio/vaex/issues/656 "
   ]
  },
  {
   "cell_type": "code",
   "execution_count": 1,
   "metadata": {},
   "outputs": [],
   "source": [
    "from datetime import datetime\n",
    "import numpy as np\n",
    "import vaex\n",
    "import pandas as pd"
   ]
  },
  {
   "cell_type": "markdown",
   "metadata": {},
   "source": [
    "Leemos el parquet."
   ]
  },
  {
   "cell_type": "code",
   "execution_count": 2,
   "metadata": {},
   "outputs": [
    {
     "data": {
      "text/html": [
       "<table>\n",
       "<thead>\n",
       "<tr><th>#                                    </th><th>event_time                   </th><th>event_type  </th><th>product_id  </th><th>category_code                </th><th>brand   </th><th>price  </th><th>user_id  </th></tr>\n",
       "</thead>\n",
       "<tbody>\n",
       "<tr><td><i style='opacity: 0.6'>0</i>        </td><td>2019-10-01 00:00:00.000000000</td><td>purchase    </td><td>1004856     </td><td>electronics.smartphone       </td><td>samsung </td><td>130.76 </td><td>543272936</td></tr>\n",
       "<tr><td><i style='opacity: 0.6'>1</i>        </td><td>2019-10-01 00:00:00.000000000</td><td>purchase    </td><td>1002532     </td><td>electronics.smartphone       </td><td>apple   </td><td>642.69 </td><td>551377651</td></tr>\n",
       "<tr><td><i style='opacity: 0.6'>2</i>        </td><td>2019-10-01 00:00:00.000000000</td><td>purchase    </td><td>5100816     </td><td>no category                  </td><td>xiaomi  </td><td>29.51  </td><td>514591159</td></tr>\n",
       "<tr><td><i style='opacity: 0.6'>3</i>        </td><td>2019-10-01 00:00:00.000000000</td><td>purchase    </td><td>13800054    </td><td>furniture.bathroom.toilet    </td><td>santeri </td><td>54.42  </td><td>555332717</td></tr>\n",
       "<tr><td><i style='opacity: 0.6'>4</i>        </td><td>2019-10-01 00:00:00.000000000</td><td>purchase    </td><td>4804055     </td><td>electronics.audio.headphone  </td><td>apple   </td><td>189.91 </td><td>524601178</td></tr>\n",
       "<tr><td>...                                  </td><td>...                          </td><td>...         </td><td>...         </td><td>...                          </td><td>...     </td><td>...    </td><td>...      </td></tr>\n",
       "<tr><td><i style='opacity: 0.6'>1,659,783</i></td><td>2019-11-30 00:00:00.000000000</td><td>purchase    </td><td>1004874     </td><td>electronics.smartphone       </td><td>samsung </td><td>346.7  </td><td>547804983</td></tr>\n",
       "<tr><td><i style='opacity: 0.6'>1,659,784</i></td><td>2019-11-30 00:00:00.000000000</td><td>purchase    </td><td>1005130     </td><td>electronics.smartphone       </td><td>apple   </td><td>1437.02</td><td>515582054</td></tr>\n",
       "<tr><td><i style='opacity: 0.6'>1,659,785</i></td><td>2019-11-30 00:00:00.000000000</td><td>purchase    </td><td>1004767     </td><td>electronics.smartphone       </td><td>samsung </td><td>235.6  </td><td>579876821</td></tr>\n",
       "<tr><td><i style='opacity: 0.6'>1,659,786</i></td><td>2019-11-30 00:00:00.000000000</td><td>purchase    </td><td>3701309     </td><td>appliances.environment.vacuum</td><td>polaris </td><td>89.32  </td><td>543733099</td></tr>\n",
       "<tr><td><i style='opacity: 0.6'>1,659,787</i></td><td>2019-11-30 00:00:00.000000000</td><td>purchase    </td><td>26205399    </td><td>no category                  </td><td>no brand</td><td>179.16 </td><td>553345124</td></tr>\n",
       "</tbody>\n",
       "</table>"
      ],
      "text/plain": [
       "#          event_time                     event_type    product_id    category_code                  brand     price    user_id\n",
       "0          2019-10-01 00:00:00.000000000  purchase      1004856       electronics.smartphone         samsung   130.76   543272936\n",
       "1          2019-10-01 00:00:00.000000000  purchase      1002532       electronics.smartphone         apple     642.69   551377651\n",
       "2          2019-10-01 00:00:00.000000000  purchase      5100816       no category                    xiaomi    29.51    514591159\n",
       "3          2019-10-01 00:00:00.000000000  purchase      13800054      furniture.bathroom.toilet      santeri   54.42    555332717\n",
       "4          2019-10-01 00:00:00.000000000  purchase      4804055       electronics.audio.headphone    apple     189.91   524601178\n",
       "...        ...                            ...           ...           ...                            ...       ...      ...\n",
       "1,659,783  2019-11-30 00:00:00.000000000  purchase      1004874       electronics.smartphone         samsung   346.7    547804983\n",
       "1,659,784  2019-11-30 00:00:00.000000000  purchase      1005130       electronics.smartphone         apple     1437.02  515582054\n",
       "1,659,785  2019-11-30 00:00:00.000000000  purchase      1004767       electronics.smartphone         samsung   235.6    579876821\n",
       "1,659,786  2019-11-30 00:00:00.000000000  purchase      3701309       appliances.environment.vacuum  polaris   89.32    543733099\n",
       "1,659,787  2019-11-30 00:00:00.000000000  purchase      26205399      no category                    no brand  179.16   553345124"
      ]
     },
     "execution_count": 2,
     "metadata": {},
     "output_type": "execute_result"
    }
   ],
   "source": [
    "df=vaex.from_csv('2019-Oct-Nov-transformed.csv', parse_dates=['event_time'])\n",
    "df"
   ]
  },
  {
   "cell_type": "code",
   "execution_count": 3,
   "metadata": {},
   "outputs": [
    {
     "data": {
      "text/html": [
       "<table>\n",
       "<thead>\n",
       "<tr><th>#                                    </th><th>event_time  </th><th>event_type  </th><th>product_id  </th><th>category_code                </th><th>brand   </th><th>price  </th><th>user_id  </th></tr>\n",
       "</thead>\n",
       "<tbody>\n",
       "<tr><td><i style='opacity: 0.6'>0</i>        </td><td>2019-10-01  </td><td>purchase    </td><td>1004856     </td><td>electronics.smartphone       </td><td>samsung </td><td>130.76 </td><td>543272936</td></tr>\n",
       "<tr><td><i style='opacity: 0.6'>1</i>        </td><td>2019-10-01  </td><td>purchase    </td><td>1002532     </td><td>electronics.smartphone       </td><td>apple   </td><td>642.69 </td><td>551377651</td></tr>\n",
       "<tr><td><i style='opacity: 0.6'>2</i>        </td><td>2019-10-01  </td><td>purchase    </td><td>5100816     </td><td>no category                  </td><td>xiaomi  </td><td>29.51  </td><td>514591159</td></tr>\n",
       "<tr><td><i style='opacity: 0.6'>3</i>        </td><td>2019-10-01  </td><td>purchase    </td><td>13800054    </td><td>furniture.bathroom.toilet    </td><td>santeri </td><td>54.42  </td><td>555332717</td></tr>\n",
       "<tr><td><i style='opacity: 0.6'>4</i>        </td><td>2019-10-01  </td><td>purchase    </td><td>4804055     </td><td>electronics.audio.headphone  </td><td>apple   </td><td>189.91 </td><td>524601178</td></tr>\n",
       "<tr><td>...                                  </td><td>...         </td><td>...         </td><td>...         </td><td>...                          </td><td>...     </td><td>...    </td><td>...      </td></tr>\n",
       "<tr><td><i style='opacity: 0.6'>1,659,783</i></td><td>2019-11-30  </td><td>purchase    </td><td>1004874     </td><td>electronics.smartphone       </td><td>samsung </td><td>346.7  </td><td>547804983</td></tr>\n",
       "<tr><td><i style='opacity: 0.6'>1,659,784</i></td><td>2019-11-30  </td><td>purchase    </td><td>1005130     </td><td>electronics.smartphone       </td><td>apple   </td><td>1437.02</td><td>515582054</td></tr>\n",
       "<tr><td><i style='opacity: 0.6'>1,659,785</i></td><td>2019-11-30  </td><td>purchase    </td><td>1004767     </td><td>electronics.smartphone       </td><td>samsung </td><td>235.6  </td><td>579876821</td></tr>\n",
       "<tr><td><i style='opacity: 0.6'>1,659,786</i></td><td>2019-11-30  </td><td>purchase    </td><td>3701309     </td><td>appliances.environment.vacuum</td><td>polaris </td><td>89.32  </td><td>543733099</td></tr>\n",
       "<tr><td><i style='opacity: 0.6'>1,659,787</i></td><td>2019-11-30  </td><td>purchase    </td><td>26205399    </td><td>no category                  </td><td>no brand</td><td>179.16 </td><td>553345124</td></tr>\n",
       "</tbody>\n",
       "</table>"
      ],
      "text/plain": [
       "#          event_time    event_type    product_id    category_code                  brand     price    user_id\n",
       "0          2019-10-01    purchase      1004856       electronics.smartphone         samsung   130.76   543272936\n",
       "1          2019-10-01    purchase      1002532       electronics.smartphone         apple     642.69   551377651\n",
       "2          2019-10-01    purchase      5100816       no category                    xiaomi    29.51    514591159\n",
       "3          2019-10-01    purchase      13800054      furniture.bathroom.toilet      santeri   54.42    555332717\n",
       "4          2019-10-01    purchase      4804055       electronics.audio.headphone    apple     189.91   524601178\n",
       "...        ...           ...           ...           ...                            ...       ...      ...\n",
       "1,659,783  2019-11-30    purchase      1004874       electronics.smartphone         samsung   346.7    547804983\n",
       "1,659,784  2019-11-30    purchase      1005130       electronics.smartphone         apple     1437.02  515582054\n",
       "1,659,785  2019-11-30    purchase      1004767       electronics.smartphone         samsung   235.6    579876821\n",
       "1,659,786  2019-11-30    purchase      3701309       appliances.environment.vacuum  polaris   89.32    543733099\n",
       "1,659,787  2019-11-30    purchase      26205399      no category                    no brand  179.16   553345124"
      ]
     },
     "execution_count": 3,
     "metadata": {},
     "output_type": "execute_result"
    }
   ],
   "source": [
    "df['event_time'] = df[('event_time')].astype(\"datetime64[D]\")\n",
    "df"
   ]
  },
  {
   "cell_type": "markdown",
   "metadata": {},
   "source": [
    "### RECENCY"
   ]
  },
  {
   "cell_type": "code",
   "execution_count": 4,
   "metadata": {},
   "outputs": [
    {
     "name": "stdout",
     "output_type": "stream",
     "text": [
      "2019-12-01\n"
     ]
    }
   ],
   "source": [
    "window= np.datetime64('2019-12-01')\n",
    "window = window.astype(\"datetime64[D]\")\n",
    "\n",
    "print(window)"
   ]
  },
  {
   "cell_type": "code",
   "execution_count": 5,
   "metadata": {},
   "outputs": [
    {
     "data": {
      "text/html": [
       "<table>\n",
       "<thead>\n",
       "<tr><th>#                                  </th><th>user_id  </th><th>event_time  </th></tr>\n",
       "</thead>\n",
       "<tbody>\n",
       "<tr><td><i style='opacity: 0.6'>0</i>      </td><td>555160488</td><td>2019-11-12  </td></tr>\n",
       "<tr><td><i style='opacity: 0.6'>1</i>      </td><td>535252624</td><td>2019-10-01  </td></tr>\n",
       "<tr><td><i style='opacity: 0.6'>2</i>      </td><td>555462711</td><td>2019-10-01  </td></tr>\n",
       "<tr><td><i style='opacity: 0.6'>3</i>      </td><td>550607818</td><td>2019-11-29  </td></tr>\n",
       "<tr><td><i style='opacity: 0.6'>4</i>      </td><td>555463605</td><td>2019-10-01  </td></tr>\n",
       "<tr><td>...                                </td><td>...      </td><td>...         </td></tr>\n",
       "<tr><td><i style='opacity: 0.6'>697,465</i></td><td>541557351</td><td>2019-11-25  </td></tr>\n",
       "<tr><td><i style='opacity: 0.6'>697,466</i></td><td>516614592</td><td>2019-11-25  </td></tr>\n",
       "<tr><td><i style='opacity: 0.6'>697,467</i></td><td>575799382</td><td>2019-11-25  </td></tr>\n",
       "<tr><td><i style='opacity: 0.6'>697,468</i></td><td>521470682</td><td>2019-11-25  </td></tr>\n",
       "<tr><td><i style='opacity: 0.6'>697,469</i></td><td>563379150</td><td>2019-11-25  </td></tr>\n",
       "</tbody>\n",
       "</table>"
      ],
      "text/plain": [
       "#        user_id    event_time\n",
       "0        555160488  2019-11-12\n",
       "1        535252624  2019-10-01\n",
       "2        555462711  2019-10-01\n",
       "3        550607818  2019-11-29\n",
       "4        555463605  2019-10-01\n",
       "...      ...        ...\n",
       "697,465  541557351  2019-11-25\n",
       "697,466  516614592  2019-11-25\n",
       "697,467  575799382  2019-11-25\n",
       "697,468  521470682  2019-11-25\n",
       "697,469  563379150  2019-11-25"
      ]
     },
     "execution_count": 5,
     "metadata": {},
     "output_type": "execute_result"
    }
   ],
   "source": [
    "df_recency = df.groupby(by=['user_id'], agg=({'event_time': 'max'}))\n",
    "#df_recency['event_time'] = df_recency[('event_time')].values.astype(\"datetime64[D]\")\n",
    "df_recency['event_time'] = df_recency['event_time'].values.astype(\"datetime64[D]\")\n",
    "\n",
    "\n",
    "df_recency"
   ]
  },
  {
   "cell_type": "code",
   "execution_count": 6,
   "metadata": {},
   "outputs": [
    {
     "data": {
      "text/html": [
       "<table>\n",
       "<thead>\n",
       "<tr><th>#                                  </th><th>user_id  </th><th>event_time  </th><th>Recency         </th></tr>\n",
       "</thead>\n",
       "<tbody>\n",
       "<tr><td><i style='opacity: 0.6'>0</i>      </td><td>555160488</td><td>2019-11-12  </td><td>19 days +0:00:00</td></tr>\n",
       "<tr><td><i style='opacity: 0.6'>1</i>      </td><td>535252624</td><td>2019-10-01  </td><td>61 days +0:00:00</td></tr>\n",
       "<tr><td><i style='opacity: 0.6'>2</i>      </td><td>555462711</td><td>2019-10-01  </td><td>61 days +0:00:00</td></tr>\n",
       "<tr><td><i style='opacity: 0.6'>3</i>      </td><td>550607818</td><td>2019-11-29  </td><td>2 days +0:00:00 </td></tr>\n",
       "<tr><td><i style='opacity: 0.6'>4</i>      </td><td>555463605</td><td>2019-10-01  </td><td>61 days +0:00:00</td></tr>\n",
       "<tr><td>...                                </td><td>...      </td><td>...         </td><td>...             </td></tr>\n",
       "<tr><td><i style='opacity: 0.6'>697,465</i></td><td>541557351</td><td>2019-11-25  </td><td>6 days +0:00:00 </td></tr>\n",
       "<tr><td><i style='opacity: 0.6'>697,466</i></td><td>516614592</td><td>2019-11-25  </td><td>6 days +0:00:00 </td></tr>\n",
       "<tr><td><i style='opacity: 0.6'>697,467</i></td><td>575799382</td><td>2019-11-25  </td><td>6 days +0:00:00 </td></tr>\n",
       "<tr><td><i style='opacity: 0.6'>697,468</i></td><td>521470682</td><td>2019-11-25  </td><td>6 days +0:00:00 </td></tr>\n",
       "<tr><td><i style='opacity: 0.6'>697,469</i></td><td>563379150</td><td>2019-11-25  </td><td>6 days +0:00:00 </td></tr>\n",
       "</tbody>\n",
       "</table>"
      ],
      "text/plain": [
       "#        user_id    event_time    Recency\n",
       "0        555160488  2019-11-12    19 days +0:00:00\n",
       "1        535252624  2019-10-01    61 days +0:00:00\n",
       "2        555462711  2019-10-01    61 days +0:00:00\n",
       "3        550607818  2019-11-29    2 days +0:00:00\n",
       "4        555463605  2019-10-01    61 days +0:00:00\n",
       "...      ...        ...           ...\n",
       "697,465  541557351  2019-11-25    6 days +0:00:00\n",
       "697,466  516614592  2019-11-25    6 days +0:00:00\n",
       "697,467  575799382  2019-11-25    6 days +0:00:00\n",
       "697,468  521470682  2019-11-25    6 days +0:00:00\n",
       "697,469  563379150  2019-11-25    6 days +0:00:00"
      ]
     },
     "execution_count": 6,
     "metadata": {},
     "output_type": "execute_result"
    }
   ],
   "source": [
    "#df_recency['Recency'] = df_recency['event_time'].apply(lambda x: (window - x))\n",
    "df_recency['Recency'] =  (df_recency['event_time'] - window) * (-1)\n",
    "df_recency"
   ]
  },
  {
   "cell_type": "code",
   "execution_count": 7,
   "metadata": {},
   "outputs": [],
   "source": [
    "df_recency = df_recency[['user_id','Recency']]"
   ]
  },
  {
   "cell_type": "code",
   "execution_count": 8,
   "metadata": {},
   "outputs": [
    {
     "data": {
      "text/html": [
       "<table>\n",
       "<thead>\n",
       "<tr><th>#                                  </th><th>user_id  </th><th>Recency  </th></tr>\n",
       "</thead>\n",
       "<tbody>\n",
       "<tr><td><i style='opacity: 0.6'>0</i>      </td><td>555160488</td><td>19       </td></tr>\n",
       "<tr><td><i style='opacity: 0.6'>1</i>      </td><td>535252624</td><td>61       </td></tr>\n",
       "<tr><td><i style='opacity: 0.6'>2</i>      </td><td>555462711</td><td>61       </td></tr>\n",
       "<tr><td><i style='opacity: 0.6'>3</i>      </td><td>550607818</td><td>2        </td></tr>\n",
       "<tr><td><i style='opacity: 0.6'>4</i>      </td><td>555463605</td><td>61       </td></tr>\n",
       "<tr><td>...                                </td><td>...      </td><td>...      </td></tr>\n",
       "<tr><td><i style='opacity: 0.6'>697,465</i></td><td>541557351</td><td>6        </td></tr>\n",
       "<tr><td><i style='opacity: 0.6'>697,466</i></td><td>516614592</td><td>6        </td></tr>\n",
       "<tr><td><i style='opacity: 0.6'>697,467</i></td><td>575799382</td><td>6        </td></tr>\n",
       "<tr><td><i style='opacity: 0.6'>697,468</i></td><td>521470682</td><td>6        </td></tr>\n",
       "<tr><td><i style='opacity: 0.6'>697,469</i></td><td>563379150</td><td>6        </td></tr>\n",
       "</tbody>\n",
       "</table>"
      ],
      "text/plain": [
       "#        user_id    Recency\n",
       "0        555160488  19\n",
       "1        535252624  61\n",
       "2        555462711  61\n",
       "3        550607818  2\n",
       "4        555463605  61\n",
       "...      ...        ...\n",
       "697,465  541557351  6\n",
       "697,466  516614592  6\n",
       "697,467  575799382  6\n",
       "697,468  521470682  6\n",
       "697,469  563379150  6"
      ]
     },
     "execution_count": 8,
     "metadata": {},
     "output_type": "execute_result"
    }
   ],
   "source": [
    "df_recency['Recency'] = df_recency[('Recency')].values.astype(\"int\")\n",
    "df_recency"
   ]
  },
  {
   "cell_type": "markdown",
   "metadata": {},
   "source": [
    "### FREQUENCY"
   ]
  },
  {
   "cell_type": "code",
   "execution_count": null,
   "metadata": {},
   "outputs": [],
   "source": [
    "df_frequency = df.groupby(by=['user_id'], agg='count')\n",
    "df_frequency"
   ]
  },
  {
   "cell_type": "code",
   "execution_count": null,
   "metadata": {},
   "outputs": [],
   "source": [
    "df_frequency.rename('count','Frequency')\n",
    "df_frequency"
   ]
  },
  {
   "cell_type": "markdown",
   "metadata": {},
   "source": [
    "### MONETARY"
   ]
  },
  {
   "cell_type": "code",
   "execution_count": null,
   "metadata": {},
   "outputs": [],
   "source": [
    "df_monetary = df.groupby(by=['user_id'], agg=({'price': 'sum'}))\n",
    "df_monetary"
   ]
  },
  {
   "cell_type": "code",
   "execution_count": null,
   "metadata": {},
   "outputs": [],
   "source": [
    "df_monetary.rename('price','Monetary')\n",
    "df_monetary"
   ]
  },
  {
   "cell_type": "markdown",
   "metadata": {},
   "source": [
    "### MERGE LOS TRES DF"
   ]
  },
  {
   "cell_type": "code",
   "execution_count": null,
   "metadata": {},
   "outputs": [],
   "source": [
    "df_rfm = df_recency.join(df_frequency, \n",
    "                        how='inner', \n",
    "                        left_on ='user_id',\n",
    "                        right_on='user_id')\n",
    "                        \n",
    "df_rfm"
   ]
  },
  {
   "cell_type": "code",
   "execution_count": null,
   "metadata": {},
   "outputs": [],
   "source": [
    "df_rfm = df_rfm.join(df_monetary, \n",
    "                        how='inner', \n",
    "                        left_on ='user_id',\n",
    "                        right_on='user_id')\n",
    "df_rfm"
   ]
  },
  {
   "cell_type": "markdown",
   "metadata": {},
   "source": [
    "### Eliminamos outliers utilizando el percentil 98.\n",
    "Para correr la función percentile_approx tuve que degradar la versión de numpy (1.21.5 a 1.19.5)\n",
    "https://github.com/vaexio/vaex/issues/385"
   ]
  },
  {
   "cell_type": "code",
   "execution_count": null,
   "metadata": {},
   "outputs": [],
   "source": [
    "#Chequeamos máximos y mínimos en Recency (no puede ser menor a 1 ni mayor a 61)\n",
    "print(df_rfm['Recency'].min())\n",
    "print(df_rfm['Recency'].max())"
   ]
  },
  {
   "cell_type": "code",
   "execution_count": null,
   "metadata": {},
   "outputs": [],
   "source": [
    "#Chequeamos máximos y mínimos en Frequency\n",
    "print(df_rfm['Frequency'].min())\n",
    "print(df_rfm['Frequency'].max())"
   ]
  },
  {
   "cell_type": "code",
   "execution_count": null,
   "metadata": {},
   "outputs": [],
   "source": [
    "#Chequeamos máximos y mínimos en Monetary\n",
    "print(df_rfm['Monetary'].min())\n",
    "print(df_rfm['Monetary'].max())"
   ]
  },
  {
   "cell_type": "code",
   "execution_count": null,
   "metadata": {},
   "outputs": [],
   "source": [
    "#Para Frequency, calculamos el percentil 98 (q98) y nos quedamos con los valores menores a él.\n",
    "\n",
    "p98 = df_rfm.percentile_approx('Frequency', 98)\n",
    "print('Percentil 98: ' + str(p98))\n",
    "\n",
    "df_rfm = df_rfm[df_rfm.Frequency <= p98]\n",
    "df_rfm"
   ]
  },
  {
   "cell_type": "code",
   "execution_count": null,
   "metadata": {},
   "outputs": [],
   "source": [
    "#Para Monetary, calculamos el percentil 2 y el percentil 98 (p2 y p98) y nos quedamos con el intervalo entre estos dos valores.\n",
    "\n",
    "p2 = df_rfm.percentile_approx('Monetary', 2)\n",
    "p98 = df_rfm.percentile_approx('Monetary', 98)\n",
    "\n",
    "print('Percentil 2: ' + str(p2))\n",
    "print('Percentil 98: ' + str(p98))\n",
    "\n",
    "df_rfm = df_rfm[df_rfm.Monetary > p2]\n",
    "df_rfm = df_rfm[df_rfm.Monetary < p98]\n",
    "df_rfm\n"
   ]
  },
  {
   "cell_type": "markdown",
   "metadata": {},
   "source": [
    "### Asignamos quintiles\n",
    "[FEATURE-REQUEST] Like Pandas cut https://github.com/vaexio/vaex/issues/1228"
   ]
  },
  {
   "cell_type": "markdown",
   "metadata": {},
   "source": [
    "Al no encontrar ninguna función similar ni poder aplicar np.select, convierto el DataframeArray a Pandas."
   ]
  },
  {
   "cell_type": "code",
   "execution_count": null,
   "metadata": {},
   "outputs": [],
   "source": [
    "rfm = pd.DataFrame(df_rfm, columns=['user_id','Recency','Frequency','Monetary'])\n",
    "rfm = rfm.astype({'user_id':'int','Recency':'int','Frequency':'int'})\n",
    "rfm"
   ]
  },
  {
   "cell_type": "code",
   "execution_count": null,
   "metadata": {},
   "outputs": [],
   "source": [
    "R_condition = [(rfm['Recency'] < 11),\n",
    "            ((rfm['Recency'] >= 11) & (rfm['Recency'] < 15)),\n",
    "            ((rfm['Recency'] >= 15) & (rfm['Recency'] < 28)),\n",
    "            ((rfm['Recency'] >= 28) & (rfm['Recency'] < 44)),\n",
    "            (rfm['Recency'] >= 44)]\n",
    "\n",
    "option = [5,4,3,2,1]\n",
    "rfm['R'] = np.select(R_condition, option,default=5)\n"
   ]
  },
  {
   "cell_type": "code",
   "execution_count": null,
   "metadata": {},
   "outputs": [],
   "source": [
    "condition = [(rfm.Frequency == 1) | (rfm.Frequency == 2),\n",
    "            (rfm.Frequency == 3) | (rfm.Frequency == 4),\n",
    "            (rfm.Frequency == 5) | (rfm.Frequency == 6),\n",
    "            (rfm.Frequency == 7) | (rfm.Frequency == 8)]\n",
    "option = [1,2,3,4]\n",
    "rfm['F'] = np.select(condition, option, default= 5)\n",
    "\n",
    "rfm['M'] = pd.qcut(rfm['Monetary'], q=5, labels=[1,2,3,4,5]) \n",
    "rfm['M']=rfm['M'].astype(int)\n",
    "rfm"
   ]
  },
  {
   "cell_type": "code",
   "execution_count": null,
   "metadata": {},
   "outputs": [],
   "source": [
    "#Convertimos de nuevo a un DataframeArrays\n",
    "rfm = vaex.from_pandas(rfm)\n",
    "rfm"
   ]
  },
  {
   "cell_type": "code",
   "execution_count": null,
   "metadata": {},
   "outputs": [],
   "source": [
    "rfm[\"RFM_SCORE\"] = (rfm['R'].astype(str) + \n",
    "                    rfm['F'].astype(str) +\n",
    "                    rfm['M'].astype(str))\n",
    "rfm"
   ]
  },
  {
   "cell_type": "markdown",
   "metadata": {},
   "source": [
    "### A partir del RFM_SCORE, mapeamos los segmentos."
   ]
  },
  {
   "cell_type": "code",
   "execution_count": null,
   "metadata": {},
   "outputs": [],
   "source": [
    "seg_map = vaex.read_csv('segmentos_rfm.csv', usecols=['RFM_SCORE','segment'])\n",
    "seg_map['RFM_SCORE']= seg_map.RFM_SCORE.astype(str)\n",
    "seg_map.head()"
   ]
  },
  {
   "cell_type": "code",
   "execution_count": null,
   "metadata": {},
   "outputs": [],
   "source": [
    "rfm = rfm.join(seg_map, \n",
    "                        how='inner', \n",
    "                        left_on ='RFM_SCORE',\n",
    "                        right_on='RFM_SCORE')\n",
    "rfm"
   ]
  },
  {
   "cell_type": "markdown",
   "metadata": {},
   "source": [
    "### How to read this table?\n",
    "Champions\n",
    "There are 90063 people in this group.\n",
    "They do not shop for an average of 4.93 days.\n",
    "They shopped an average of 4.67 times.\n",
    "They earned an average of 1753.93 units of money."
   ]
  },
  {
   "cell_type": "code",
   "execution_count": null,
   "metadata": {},
   "outputs": [],
   "source": [
    "rfm[[\"segment\", \"Recency\", \"Frequency\", \"Monetary\"]].groupby(\"segment\").agg([\"mean\", \"count\",\"max\"])"
   ]
  },
  {
   "cell_type": "code",
   "execution_count": null,
   "metadata": {},
   "outputs": [],
   "source": [
    "ctas_x_seg=(\n",
    "    rfm\n",
    "    .groupby(['segment'],as_index=False)['user_id']\n",
    "    .count()\n",
    ")\n",
    "\n",
    "ctas_x_seg['text_']=ctas_x_seg['segment']+' \\n['+ctas_x_seg['user_id'].astype(str)+' ] '\n",
    "ctas_x_seg.loc[ctas_x_seg['user_id']<100,'user_id']=ctas_x_seg.loc[ctas_x_seg['user_id']<100,'user_id']+1000\n",
    "\n",
    "\n",
    "plt.figure(figsize=(20,10))\n",
    "squarify.plot(sizes=list(ctas_x_seg.iduser), \n",
    "              label=list(ctas_x_seg.text_), \n",
    "              alpha=.4,\n",
    "              edgecolor=\"black\", linewidth=2,text_kwargs={'fontsize':15})"
   ]
  }
 ],
 "metadata": {
  "kernelspec": {
   "display_name": "Python 3 (ipykernel)",
   "language": "python",
   "name": "python3"
  },
  "language_info": {
   "codemirror_mode": {
    "name": "ipython",
    "version": 3
   },
   "file_extension": ".py",
   "mimetype": "text/x-python",
   "name": "python",
   "nbconvert_exporter": "python",
   "pygments_lexer": "ipython3",
   "version": "3.10.8"
  },
  "vscode": {
   "interpreter": {
    "hash": "5e3f1fafac2d24273f1f7be858542ce19461277e56adf26e9b6be4126725ed20"
   }
  }
 },
 "nbformat": 4,
 "nbformat_minor": 2
}
